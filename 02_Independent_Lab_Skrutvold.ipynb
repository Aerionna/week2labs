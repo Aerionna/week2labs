{
 "cells": [
  {
   "cell_type": "markdown",
   "id": "5ad4c1f3-4438-4a1c-9b18-65539d776937",
   "metadata": {},
   "source": [
    "Intro to Python, MSBA \n",
    "Week 2 Independent Lab\n",
    "Aerionna Skrutvold\n",
    "March 5, 2025\n",
    "Welcome to my first independent lab assignment! "
   ]
  },
  {
   "cell_type": "code",
   "execution_count": 95,
   "id": "d0091e56-b149-462b-bf4e-72f41f096759",
   "metadata": {},
   "outputs": [
    {
     "name": "stdin",
     "output_type": "stream",
     "text": [
      "Please provide a value, in Celsius, to convert:\n",
      " 37\n"
     ]
    }
   ],
   "source": [
    "celsius_value = int(input(\"Please provide a value, in Celsius, to convert:\\n\"))    # I chose to use int data type to output a whole number, as whole numbers are what's generally provided for tempature. "
   ]
  },
  {
   "cell_type": "code",
   "execution_count": 96,
   "id": "0ae79578-aa10-4edb-b5e9-172aedb11311",
   "metadata": {},
   "outputs": [],
   "source": [
    "celsius = int(celsius_value)"
   ]
  },
  {
   "cell_type": "code",
   "execution_count": 97,
   "id": "cf876f44-4344-464e-97ad-33ff0bf00d94",
   "metadata": {},
   "outputs": [
    {
     "data": {
      "text/plain": [
       "37"
      ]
     },
     "execution_count": 97,
     "metadata": {},
     "output_type": "execute_result"
    }
   ],
   "source": [
    "celsius    # Printing value to confirm value"
   ]
  },
  {
   "cell_type": "code",
   "execution_count": 124,
   "id": "1cb8a663-2572-4b82-90a8-3859b36d26b2",
   "metadata": {},
   "outputs": [],
   "source": [
    "fahrenheit = ((9 / 5) * celsius + 32)  # Using the equation for fahrenheit. "
   ]
  },
  {
   "cell_type": "code",
   "execution_count": 125,
   "id": "6272cd7c-22ed-40cb-9e69-4c365429ff57",
   "metadata": {},
   "outputs": [
    {
     "data": {
      "text/plain": [
       "98.60000000000001"
      ]
     },
     "execution_count": 125,
     "metadata": {},
     "output_type": "execute_result"
    }
   ],
   "source": [
    "fahrenheit    # Printing the output from the equation above"
   ]
  },
  {
   "cell_type": "markdown",
   "id": "301543d5-20e0-4ded-b7e5-947b5c71ea23",
   "metadata": {},
   "source": [
    "Not sure if I'm doing something wrong here where fahrenheit is not carrying over a float data or if string interpolation converts all data to int type since the decimals are not appearing. "
   ]
  },
  {
   "cell_type": "code",
   "execution_count": 130,
   "id": "2d5708e3-6d81-434e-b4bf-5b951ec696f2",
   "metadata": {},
   "outputs": [
    {
     "name": "stdout",
     "output_type": "stream",
     "text": [
      "37 \"degrees celsius is\" 98 \"degrees fahrenheit.\"\n"
     ]
    }
   ],
   "source": [
    "print('%d \"degrees celsius is\" %d \"degrees fahrenheit.\"' % (celsius, fahrenheit))   "
   ]
  },
  {
   "cell_type": "code",
   "execution_count": 128,
   "id": "03773687-b355-4dab-87a7-264d2a083017",
   "metadata": {},
   "outputs": [],
   "source": [
    "int_fahrenheit = int(fahrenheit)    # Turning this into a integer"
   ]
  },
  {
   "cell_type": "code",
   "execution_count": 129,
   "id": "7ad2faf4-4a09-4570-8e14-e4b44aff7b80",
   "metadata": {},
   "outputs": [
    {
     "data": {
      "text/plain": [
       "98"
      ]
     },
     "execution_count": 129,
     "metadata": {},
     "output_type": "execute_result"
    }
   ],
   "source": [
    "int_fahrenheit"
   ]
  },
  {
   "cell_type": "raw",
   "id": "d6fa64ea-e406-449f-b614-6e9a35de5604",
   "metadata": {},
   "source": []
  }
 ],
 "metadata": {
  "kernelspec": {
   "display_name": "Python 3 (ipykernel)",
   "language": "python",
   "name": "python3"
  },
  "language_info": {
   "codemirror_mode": {
    "name": "ipython",
    "version": 3
   },
   "file_extension": ".py",
   "mimetype": "text/x-python",
   "name": "python",
   "nbconvert_exporter": "python",
   "pygments_lexer": "ipython3",
   "version": "3.12.7"
  }
 },
 "nbformat": 4,
 "nbformat_minor": 5
}
