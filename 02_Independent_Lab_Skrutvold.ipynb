{
 "cells": [
  {
   "cell_type": "markdown",
   "id": "5ad4c1f3-4438-4a1c-9b18-65539d776937",
   "metadata": {},
   "source": [
    "Intro to Python, MSBA \n",
    "Week 2 Independent Lab\n",
    "Aerionna Skrutvold\n",
    "March 5, 2025\n",
    "Welcome to my first independent lab assignment! "
   ]
  },
  {
   "cell_type": "markdown",
   "id": "8bfc64bc-a8f9-4af2-a047-3967b3626f89",
   "metadata": {},
   "source": [
    "I decided to put the celsius input variable first, because in a real world senario it would make sense the input value was the first thing to be added. "
   ]
  },
  {
   "cell_type": "code",
   "execution_count": 1,
   "id": "d0091e56-b149-462b-bf4e-72f41f096759",
   "metadata": {},
   "outputs": [
    {
     "name": "stdin",
     "output_type": "stream",
     "text": [
      "Please provide a value, in Celsius, to convert:\n",
      " 37\n"
     ]
    }
   ],
   "source": [
    "celsius_value = int(input(\"Please provide a value, in Celsius, to convert:\\n\"))    # I chose to use int data type to output a whole number, as whole numbers are what's generally provided for tempature. "
   ]
  },
  {
   "cell_type": "code",
   "execution_count": 2,
   "id": "0ae79578-aa10-4edb-b5e9-172aedb11311",
   "metadata": {},
   "outputs": [],
   "source": [
    "celsius = int(celsius_value)    # Creating the celsius variable based on input. "
   ]
  },
  {
   "cell_type": "markdown",
   "id": "de66fc24-5d67-417b-a060-f8aa46781693",
   "metadata": {},
   "source": [
    "Let's print the value to confirm. "
   ]
  },
  {
   "cell_type": "code",
   "execution_count": 3,
   "id": "cf876f44-4344-464e-97ad-33ff0bf00d94",
   "metadata": {},
   "outputs": [
    {
     "data": {
      "text/plain": [
       "37"
      ]
     },
     "execution_count": 3,
     "metadata": {},
     "output_type": "execute_result"
    }
   ],
   "source": [
    "celsius    "
   ]
  },
  {
   "cell_type": "markdown",
   "id": "868d6b24-7106-40e6-880b-f76cd3148e20",
   "metadata": {},
   "source": [
    "Below is the equation for fahrenheit"
   ]
  },
  {
   "cell_type": "code",
   "execution_count": 4,
   "id": "1cb8a663-2572-4b82-90a8-3859b36d26b2",
   "metadata": {},
   "outputs": [],
   "source": [
    "fahrenheit = ((9 / 5) * celsius + 32)  # Equation for fahrenheit. "
   ]
  },
  {
   "cell_type": "markdown",
   "id": "c0ecfa40-f5b1-4ed5-a15e-83abbc273f22",
   "metadata": {},
   "source": [
    "Let's print the output for fahrenheit from the equation above."
   ]
  },
  {
   "cell_type": "code",
   "execution_count": 5,
   "id": "6272cd7c-22ed-40cb-9e69-4c365429ff57",
   "metadata": {},
   "outputs": [
    {
     "data": {
      "text/plain": [
       "98.60000000000001"
      ]
     },
     "execution_count": 5,
     "metadata": {},
     "output_type": "execute_result"
    }
   ],
   "source": [
    "fahrenheit  "
   ]
  },
  {
   "cell_type": "markdown",
   "id": "301543d5-20e0-4ded-b7e5-947b5c71ea23",
   "metadata": {},
   "source": [
    "Not sure if I'm doing something wrong here where fahrenheit is not carrying over a float data or if string interpolation converts all data to int type since the decimals are not appearing. "
   ]
  },
  {
   "cell_type": "code",
   "execution_count": 130,
   "id": "2d5708e3-6d81-434e-b4bf-5b951ec696f2",
   "metadata": {},
   "outputs": [
    {
     "name": "stdout",
     "output_type": "stream",
     "text": [
      "37 \"degrees celsius is\" 98 \"degrees fahrenheit.\"\n"
     ]
    }
   ],
   "source": [
    "print('%d \"degrees celsius is\" %d \"degrees fahrenheit.\"' % (celsius, fahrenheit))   "
   ]
  },
  {
   "cell_type": "markdown",
   "id": "3d7a148a-5515-48d8-af17-cc7f0bfe69ea",
   "metadata": {},
   "source": [
    "Last part, turning fahrenheit into a integer. "
   ]
  },
  {
   "cell_type": "code",
   "execution_count": 7,
   "id": "03773687-b355-4dab-87a7-264d2a083017",
   "metadata": {},
   "outputs": [],
   "source": [
    "int_fahrenheit = int(fahrenheit)    # Turning this into a integer"
   ]
  },
  {
   "cell_type": "code",
   "execution_count": 8,
   "id": "7ad2faf4-4a09-4570-8e14-e4b44aff7b80",
   "metadata": {},
   "outputs": [
    {
     "data": {
      "text/plain": [
       "98"
      ]
     },
     "execution_count": 8,
     "metadata": {},
     "output_type": "execute_result"
    }
   ],
   "source": [
    "int_fahrenheit"
   ]
  },
  {
   "cell_type": "raw",
   "id": "d6fa64ea-e406-449f-b614-6e9a35de5604",
   "metadata": {},
   "source": []
  }
 ],
 "metadata": {
  "kernelspec": {
   "display_name": "Python 3 (ipykernel)",
   "language": "python",
   "name": "python3"
  },
  "language_info": {
   "codemirror_mode": {
    "name": "ipython",
    "version": 3
   },
   "file_extension": ".py",
   "mimetype": "text/x-python",
   "name": "python",
   "nbconvert_exporter": "python",
   "pygments_lexer": "ipython3",
   "version": "3.12.7"
  }
 },
 "nbformat": 4,
 "nbformat_minor": 5
}
