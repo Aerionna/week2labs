{
 "cells": [
  {
   "cell_type": "markdown",
   "id": "136947c4-e057-4395-b873-a989c9008307",
   "metadata": {
    "editable": true,
    "slideshow": {
     "slide_type": ""
    },
    "tags": []
   },
   "source": [
    "UM MSBA - BGEN 632\n",
    "\n",
    "# Week 2 Instructor-led Lab\n",
    "\n",
    "In this assignment you will create basic code showcasing the concepts you learned about in the tutorial. \n",
    "\n",
    "**Create Code cells below this Markdown cell to complete the assignment. Write and run your code. To get full points, your submitted notebook must include saved output in addition to written code.** \n",
    "\n",
    "For this assignment, you are not required to create any Markdown cells but you are encouraged to do so to improve the aesthetics and organization of your lab submission. \n",
    "\n",
    "As stated in the syllabus, you <ins>must</ins> include information about your use of online resources to complete assignments, including chatbots like ChatGPT. You can include reference information within your notebooks and/or within separate files pushed to your repo on GitHub. Failure to disclose the use of online resources is a violation of course policy.\n",
    "\n",
    "## Assigning Values\n",
    "\n",
    "For this portion of the assignment, you will create variables in your notebook. You will assign a value to each variable. Please perform the following tasks and create each variable by assigning the following values:\n",
    "\n",
    "* my_int assign it a number between 1 and 20, inclusive.\n",
    "* long_a assign it the number 6,323,527,192.\n",
    "* float_pi assign it the number 3.14159\n",
    "* my_double assign it a fractional number with 13 decimals.\n",
    "* decimal_a assign it a fractional number with 20 decimals.\n",
    "* big_griz assign it the value G (uppercase).\n",
    "* my_hello assign it a greeting to the entire class.\n",
    "* my_goodbye assign it a farewell to your class.\n",
    "\n",
    "## Single Line Comments\n",
    "\n",
    "At the end of each variable, on the same line, place a single-line comment with a short description of each variable. For example, it would look like this:\n",
    "\n",
    "```\n",
    "new_double = 38.936921934     # A double with 9 decimal places\n",
    "```\n",
    "\n",
    "## Print Output\n",
    "\n",
    "Now that you have assigned values to your variables, let's print them. Output each variable individually.\n",
    "\n",
    "## Type Conversion\n",
    "\n",
    "The last task you have for this lab involves type conversion. Create new variables with the following types, names, and values. Use an explicit type conversion.\n",
    "\n",
    "* `int` named my_new_int with a number between 1 and 20, inclusive.\n",
    "* `float` named float_b with value 3.14159.\n",
    "  \n",
    "Output both variables. \n",
    "\n",
    "---"
   ]
  },
  {
   "cell_type": "code",
   "execution_count": 47,
   "id": "f9993eb4-3877-4f01-b8a6-996c517f4cc5",
   "metadata": {},
   "outputs": [],
   "source": [
    "my_int = 13    # Choosing lucky number 13"
   ]
  },
  {
   "cell_type": "code",
   "execution_count": 48,
   "id": "42bf61d7-450c-451f-8d2a-f376b75c3b87",
   "metadata": {},
   "outputs": [],
   "source": [
    "long_a = 6323527192    # A long number totalling over 6 billion"
   ]
  },
  {
   "cell_type": "code",
   "execution_count": 49,
   "id": "d66e4214-94a0-47c8-8db0-6d044515b322",
   "metadata": {},
   "outputs": [],
   "source": [
    "float_pi = 3.14159    # The number pi with 5 decimal places "
   ]
  },
  {
   "cell_type": "code",
   "execution_count": 50,
   "id": "d11873d4-1501-49c0-b25a-c9b0342dc5bf",
   "metadata": {},
   "outputs": [],
   "source": [
    "my_double = 0.0012345678910    # A fractional number with 13 decimanls "
   ]
  },
  {
   "cell_type": "code",
   "execution_count": 51,
   "id": "73aee31b-466b-4291-bddf-9f2f6be4fc78",
   "metadata": {},
   "outputs": [],
   "source": [
    "decimal_a = 5.86753098675309876543    # A fractional number with 20 decimals (wow!) "
   ]
  },
  {
   "cell_type": "code",
   "execution_count": 52,
   "id": "1a30586e-588b-40aa-9a21-57a0748cf4ab",
   "metadata": {},
   "outputs": [],
   "source": [
    "big_griz = \"G\"    # A string data type under the alias of big_griz"
   ]
  },
  {
   "cell_type": "code",
   "execution_count": 53,
   "id": "841aebac-6de9-49bb-beef-17d8ce68be2b",
   "metadata": {},
   "outputs": [],
   "source": [
    "my_hello = \"Hello fellow classmates!\"    # A string greeting the class"
   ]
  },
  {
   "cell_type": "code",
   "execution_count": 54,
   "id": "3385f3be-33f5-47a0-b6ce-d08f717f5df4",
   "metadata": {},
   "outputs": [],
   "source": [
    "my_goodbye = \"See you later alligators.\"   # A string saying farwell to the class"
   ]
  },
  {
   "cell_type": "code",
   "execution_count": 55,
   "id": "bba19587-fcd1-4f47-9f42-c2cec7c9f3a4",
   "metadata": {},
   "outputs": [
    {
     "data": {
      "text/plain": [
       "13"
      ]
     },
     "execution_count": 55,
     "metadata": {},
     "output_type": "execute_result"
    }
   ],
   "source": [
    "my_int"
   ]
  },
  {
   "cell_type": "code",
   "execution_count": 56,
   "id": "1c71d2f9-b219-424b-975c-fb3c3dd57927",
   "metadata": {},
   "outputs": [
    {
     "data": {
      "text/plain": [
       "6323527192"
      ]
     },
     "execution_count": 56,
     "metadata": {},
     "output_type": "execute_result"
    }
   ],
   "source": [
    "long_a"
   ]
  },
  {
   "cell_type": "code",
   "execution_count": 57,
   "id": "bb45d6bb-a127-4afa-b53d-264ee8fbd1a9",
   "metadata": {},
   "outputs": [
    {
     "data": {
      "text/plain": [
       "3.14159"
      ]
     },
     "execution_count": 57,
     "metadata": {},
     "output_type": "execute_result"
    }
   ],
   "source": [
    "float_pi"
   ]
  },
  {
   "cell_type": "code",
   "execution_count": 58,
   "id": "27923c0a-86ba-4a34-b02c-7305d7227827",
   "metadata": {},
   "outputs": [
    {
     "data": {
      "text/plain": [
       "0.001234567891"
      ]
     },
     "execution_count": 58,
     "metadata": {},
     "output_type": "execute_result"
    }
   ],
   "source": [
    "my_double"
   ]
  },
  {
   "cell_type": "code",
   "execution_count": 59,
   "id": "6b699074-8f60-444a-b6f2-075668c95909",
   "metadata": {},
   "outputs": [
    {
     "data": {
      "text/plain": [
       "5.867530986753099"
      ]
     },
     "execution_count": 59,
     "metadata": {},
     "output_type": "execute_result"
    }
   ],
   "source": [
    "decimal_a"
   ]
  },
  {
   "cell_type": "code",
   "execution_count": 60,
   "id": "3c5a812f-4f60-41f4-a468-5c6ac1dd20ab",
   "metadata": {},
   "outputs": [
    {
     "data": {
      "text/plain": [
       "'G'"
      ]
     },
     "execution_count": 60,
     "metadata": {},
     "output_type": "execute_result"
    }
   ],
   "source": [
    "big_griz"
   ]
  },
  {
   "cell_type": "code",
   "execution_count": 61,
   "id": "14a93350-fa40-41fa-a2ad-e64e2be88fe1",
   "metadata": {},
   "outputs": [
    {
     "data": {
      "text/plain": [
       "'Hello fellow classmates!'"
      ]
     },
     "execution_count": 61,
     "metadata": {},
     "output_type": "execute_result"
    }
   ],
   "source": [
    "my_hello"
   ]
  },
  {
   "cell_type": "code",
   "execution_count": 62,
   "id": "c91ade29-a4f4-4275-991a-90ecb088817d",
   "metadata": {},
   "outputs": [
    {
     "data": {
      "text/plain": [
       "'See you later alligators.'"
      ]
     },
     "execution_count": 62,
     "metadata": {},
     "output_type": "execute_result"
    }
   ],
   "source": [
    "my_goodbye"
   ]
  },
  {
   "cell_type": "code",
   "execution_count": 63,
   "id": "30acd4b8-086e-4854-9903-3ca07039c05e",
   "metadata": {},
   "outputs": [],
   "source": [
    "my_new_int = int(18)"
   ]
  },
  {
   "cell_type": "code",
   "execution_count": 64,
   "id": "65fccf41-c1b3-47ff-8bb5-fac09c37451a",
   "metadata": {},
   "outputs": [],
   "source": [
    "float_b = float(3.14159)"
   ]
  },
  {
   "cell_type": "code",
   "execution_count": 65,
   "id": "897f9230-da77-4c7b-8b6d-e759460fe30e",
   "metadata": {},
   "outputs": [
    {
     "data": {
      "text/plain": [
       "18"
      ]
     },
     "execution_count": 65,
     "metadata": {},
     "output_type": "execute_result"
    }
   ],
   "source": [
    "my_new_int"
   ]
  },
  {
   "cell_type": "code",
   "execution_count": 67,
   "id": "284f1d10-815c-44f9-a37a-df051398d067",
   "metadata": {},
   "outputs": [
    {
     "data": {
      "text/plain": [
       "3.14159"
      ]
     },
     "execution_count": 67,
     "metadata": {},
     "output_type": "execute_result"
    }
   ],
   "source": [
    "float_b"
   ]
  },
  {
   "cell_type": "code",
   "execution_count": null,
   "id": "d7b3f74d-0114-40b7-b555-fa7719bf0a68",
   "metadata": {},
   "outputs": [],
   "source": []
  }
 ],
 "metadata": {
  "kernelspec": {
   "display_name": "Python 3 (ipykernel)",
   "language": "python",
   "name": "python3"
  },
  "language_info": {
   "codemirror_mode": {
    "name": "ipython",
    "version": 3
   },
   "file_extension": ".py",
   "mimetype": "text/x-python",
   "name": "python",
   "nbconvert_exporter": "python",
   "pygments_lexer": "ipython3",
   "version": "3.12.7"
  }
 },
 "nbformat": 4,
 "nbformat_minor": 5
}
